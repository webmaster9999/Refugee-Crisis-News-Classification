{
 "cells": [
  {
   "cell_type": "code",
   "execution_count": null,
   "id": "66268f50-98a3-49c2-baf7-ff60d42a9e3d",
   "metadata": {},
   "outputs": [],
   "source": [
    "import requests\n",
    "import json\n",
    "\n",
    "def generate(system_prompt: str, user_prompt: str) -> str:\n",
    "    url = \"http://localhost:3000/generate\"\n",
    "    headers = {\n",
    "        \"accept\": \"text/event-stream\",\n",
    "        \"Content-Type\": \"application/json\",\n",
    "    }\n",
    "    \n",
    "    data = {\n",
    "        \"prompt\": user_prompt,\n",
    "        \"system_prompt\": system_prompt,\n",
    "        \"max_tokens\": 150,\n",
    "    }\n",
    "\n",
    "    try:\n",
    "        response = requests.post(url, headers=headers, data=json.dumps(data), stream=True)\n",
    "        if response.status_code == 200:\n",
    "            output_text = \"\"\n",
    "            for line in response.iter_lines():\n",
    "                if line:\n",
    "                    output_text += line.decode(\"utf-8\")\n",
    "            return output_text\n",
    "        else:\n",
    "            raise Exception(f\"Error: {response.status_code}, {response.text}\")\n",
    "\n",
    "    except Exception as e:\n",
    "        return f\"An error occurred: {e}\"\n"
   ]
  }
 ],
 "metadata": {
  "kernelspec": {
   "display_name": "Python 3 (ipykernel)",
   "language": "python",
   "name": "python3"
  },
  "language_info": {
   "codemirror_mode": {
    "name": "ipython",
    "version": 3
   },
   "file_extension": ".py",
   "mimetype": "text/x-python",
   "name": "python",
   "nbconvert_exporter": "python",
   "pygments_lexer": "ipython3",
   "version": "3.12.7"
  }
 },
 "nbformat": 4,
 "nbformat_minor": 5
}
